{
 "cells": [
  {
   "cell_type": "code",
   "execution_count": 1,
   "metadata": {},
   "outputs": [],
   "source": [
    "import numpy as np\n",
    "import pandas as pd\n",
    "import matplotlib.pyplot as plt"
   ]
  },
  {
   "cell_type": "code",
   "execution_count": 2,
   "metadata": {},
   "outputs": [
    {
     "data": {
      "text/html": [
       "<div>\n",
       "<style scoped>\n",
       "    .dataframe tbody tr th:only-of-type {\n",
       "        vertical-align: middle;\n",
       "    }\n",
       "\n",
       "    .dataframe tbody tr th {\n",
       "        vertical-align: top;\n",
       "    }\n",
       "\n",
       "    .dataframe thead th {\n",
       "        text-align: right;\n",
       "    }\n",
       "</style>\n",
       "<table border=\"1\" class=\"dataframe\">\n",
       "  <thead>\n",
       "    <tr style=\"text-align: right;\">\n",
       "      <th></th>\n",
       "      <th>Gender</th>\n",
       "      <th>Age Range</th>\n",
       "      <th>Head Size(cm^3)</th>\n",
       "      <th>Brain Weight(grams)</th>\n",
       "    </tr>\n",
       "  </thead>\n",
       "  <tbody>\n",
       "    <tr>\n",
       "      <th>0</th>\n",
       "      <td>1</td>\n",
       "      <td>1</td>\n",
       "      <td>4512</td>\n",
       "      <td>1530</td>\n",
       "    </tr>\n",
       "    <tr>\n",
       "      <th>1</th>\n",
       "      <td>1</td>\n",
       "      <td>1</td>\n",
       "      <td>3738</td>\n",
       "      <td>1297</td>\n",
       "    </tr>\n",
       "    <tr>\n",
       "      <th>2</th>\n",
       "      <td>1</td>\n",
       "      <td>1</td>\n",
       "      <td>4261</td>\n",
       "      <td>1335</td>\n",
       "    </tr>\n",
       "    <tr>\n",
       "      <th>3</th>\n",
       "      <td>1</td>\n",
       "      <td>1</td>\n",
       "      <td>3777</td>\n",
       "      <td>1282</td>\n",
       "    </tr>\n",
       "    <tr>\n",
       "      <th>4</th>\n",
       "      <td>1</td>\n",
       "      <td>1</td>\n",
       "      <td>4177</td>\n",
       "      <td>1590</td>\n",
       "    </tr>\n",
       "  </tbody>\n",
       "</table>\n",
       "</div>"
      ],
      "text/plain": [
       "   Gender  Age Range  Head Size(cm^3)  Brain Weight(grams)\n",
       "0       1          1             4512                 1530\n",
       "1       1          1             3738                 1297\n",
       "2       1          1             4261                 1335\n",
       "3       1          1             3777                 1282\n",
       "4       1          1             4177                 1590"
      ]
     },
     "execution_count": 2,
     "metadata": {},
     "output_type": "execute_result"
    }
   ],
   "source": [
    "df = pd.read_csv('headbrain.csv')\n",
    "df.head()"
   ]
  },
  {
   "cell_type": "code",
   "execution_count": 5,
   "metadata": {},
   "outputs": [
    {
     "data": {
      "text/plain": [
       "Gender                 237\n",
       "Age Range              237\n",
       "Head Size(cm^3)        237\n",
       "Brain Weight(grams)    237\n",
       "dtype: int64"
      ]
     },
     "execution_count": 5,
     "metadata": {},
     "output_type": "execute_result"
    }
   ],
   "source": [
    "df.count()"
   ]
  },
  {
   "cell_type": "code",
   "execution_count": 6,
   "metadata": {},
   "outputs": [],
   "source": [
    "from sklearn.model_selection import train_test_split\n",
    "from sklearn.linear_model import LinearRegression"
   ]
  },
  {
   "cell_type": "code",
   "execution_count": 7,
   "metadata": {},
   "outputs": [],
   "source": [
    "X = df['Head Size(cm^3)'].values\n",
    "y = df['Brain Weight(grams)'].values"
   ]
  },
  {
   "cell_type": "code",
   "execution_count": 8,
   "metadata": {},
   "outputs": [],
   "source": [
    "m = len(df)"
   ]
  },
  {
   "cell_type": "code",
   "execution_count": 10,
   "metadata": {},
   "outputs": [],
   "source": [
    "X = X.reshape(m,1)\n",
    "y = y.reshape(m,1)"
   ]
  },
  {
   "cell_type": "code",
   "execution_count": 12,
   "metadata": {},
   "outputs": [],
   "source": [
    "X_train, X_test, y_train, y_test = train_test_split(X, y, test_size=0.33, random_state=42)"
   ]
  },
  {
   "cell_type": "code",
   "execution_count": 13,
   "metadata": {},
   "outputs": [
    {
     "data": {
      "text/plain": [
       "LinearRegression(copy_X=True, fit_intercept=True, n_jobs=None, normalize=False)"
      ]
     },
     "execution_count": 13,
     "metadata": {},
     "output_type": "execute_result"
    }
   ],
   "source": [
    "LR = LinearRegression()\n",
    "LR.fit(X_train,y_train)"
   ]
  },
  {
   "cell_type": "code",
   "execution_count": 14,
   "metadata": {},
   "outputs": [
    {
     "name": "stdout",
     "output_type": "stream",
     "text": [
      "Coefficient: [[0.26974008]]\n",
      "Intercept: [301.04296895]\n"
     ]
    }
   ],
   "source": [
    "print('Coefficient:',LR.coef_)\n",
    "print('Intercept:',LR.intercept_)"
   ]
  },
  {
   "cell_type": "code",
   "execution_count": 15,
   "metadata": {},
   "outputs": [
    {
     "data": {
      "text/plain": [
       "array([[644.96157285],\n",
       "       [680.02778344],\n",
       "       [657.09987652],\n",
       "       [604.50056062],\n",
       "       [678.67908303],\n",
       "       [625.2705469 ],\n",
       "       [671.935581  ],\n",
       "       [574.01993142],\n",
       "       [650.35637448],\n",
       "       [620.68496551],\n",
       "       [646.31027326],\n",
       "       [615.29016388],\n",
       "       [656.56039635],\n",
       "       [666.54077937],\n",
       "       [649.00767407],\n",
       "       [631.47456877],\n",
       "       [742.06800218],\n",
       "       [653.05377529],\n",
       "       [603.15186022],\n",
       "       [678.67908303],\n",
       "       [630.12586837],\n",
       "       [617.44808454],\n",
       "       [638.75755097],\n",
       "       [598.83601891],\n",
       "       [662.49467814],\n",
       "       [609.08614201],\n",
       "       [656.02091619],\n",
       "       [738.02190096],\n",
       "       [623.38236633],\n",
       "       [707.00179159],\n",
       "       [653.32351537],\n",
       "       [626.07976714],\n",
       "       [616.63886429],\n",
       "       [662.49467814],\n",
       "       [708.350492  ],\n",
       "       [682.72518426],\n",
       "       [662.49467814],\n",
       "       [611.24406266],\n",
       "       [649.00767407],\n",
       "       [687.31076564],\n",
       "       [646.04053317],\n",
       "       [684.61336483],\n",
       "       [667.34999961],\n",
       "       [664.11311863],\n",
       "       [614.75068372],\n",
       "       [622.03366592],\n",
       "       [634.44170967],\n",
       "       [615.29016388],\n",
       "       [617.9875647 ],\n",
       "       [634.17196959],\n",
       "       [665.19207896],\n",
       "       [615.29016388],\n",
       "       [634.71144975],\n",
       "       [654.13273562],\n",
       "       [652.24455505],\n",
       "       [606.3887412 ],\n",
       "       [636.32989024],\n",
       "       [613.94146348],\n",
       "       [655.75117611],\n",
       "       [671.39610083],\n",
       "       [665.19207896],\n",
       "       [651.70507489],\n",
       "       [654.4024757 ],\n",
       "       [619.33626511],\n",
       "       [612.32302299],\n",
       "       [558.64474677],\n",
       "       [682.72518426],\n",
       "       [686.77128548],\n",
       "       [600.4544594 ],\n",
       "       [646.31027326],\n",
       "       [667.88947977],\n",
       "       [684.07388466],\n",
       "       [643.61287244],\n",
       "       [680.83700369],\n",
       "       [657.63935668],\n",
       "       [651.70507489],\n",
       "       [654.4024757 ],\n",
       "       [673.2842814 ],\n",
       "       [649.00767407]])"
      ]
     },
     "execution_count": 15,
     "metadata": {},
     "output_type": "execute_result"
    }
   ],
   "source": [
    "LR.predict(y_test)"
   ]
  },
  {
   "cell_type": "code",
   "execution_count": 21,
   "metadata": {},
   "outputs": [
    {
     "data": {
      "text/plain": [
       "[<matplotlib.lines.Line2D at 0x159fa0fbe08>]"
      ]
     },
     "execution_count": 21,
     "metadata": {},
     "output_type": "execute_result"
    },
    {
     "data": {
      "image/png": "[encoded data removed]",
      "text/plain": [
       "<Figure size 432x288 with 1 Axes>"
      ]
     },
     "metadata": {
      "needs_background": "light"
     },
     "output_type": "display_data"
    }
   ],
   "source": [
    "temp = LR.predict(X_test)\n",
    "plt.scatter(X_train, y_train ,color='red', marker='*')\n",
    "plt.plot(X_test, temp)"
   ]
  }
 ],
 "metadata": {
  "kernelspec": {
   "display_name": "Python 3",
   "language": "python",
   "name": "python3"
  },
  "language_info": {
   "codemirror_mode": {
    "name": "ipython",
    "version": 3
   },
   "file_extension": ".py",
   "mimetype": "text/x-python",
   "name": "python",
   "nbconvert_exporter": "python",
   "pygments_lexer": "ipython3",
   "version": "3.7.6"
  }
 },
 "nbformat": 4,
 "nbformat_minor": 4
}
